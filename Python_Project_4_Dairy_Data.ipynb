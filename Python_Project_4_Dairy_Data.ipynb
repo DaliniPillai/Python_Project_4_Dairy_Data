{
 "cells": [
  {
   "cell_type": "code",
   "execution_count": 44,
   "id": "aa6aabe7",
   "metadata": {},
   "outputs": [
    {
     "data": {
      "text/html": [
       "<div>\n",
       "<style scoped>\n",
       "    .dataframe tbody tr th:only-of-type {\n",
       "        vertical-align: middle;\n",
       "    }\n",
       "\n",
       "    .dataframe tbody tr th {\n",
       "        vertical-align: top;\n",
       "    }\n",
       "\n",
       "    .dataframe thead th {\n",
       "        text-align: right;\n",
       "    }\n",
       "</style>\n",
       "<table border=\"1\" class=\"dataframe\">\n",
       "  <thead>\n",
       "    <tr style=\"text-align: right;\">\n",
       "      <th></th>\n",
       "      <th>Year</th>\n",
       "      <th>Month</th>\n",
       "      <th>Cotagecheese.Prod</th>\n",
       "      <th>Icecream.Prod</th>\n",
       "      <th>Milk.Prod</th>\n",
       "      <th>N.CA.Fat.Price</th>\n",
       "      <th>Month.Count</th>\n",
       "      <th>monthNumSqred</th>\n",
       "      <th>monthNumCubed</th>\n",
       "    </tr>\n",
       "  </thead>\n",
       "  <tbody>\n",
       "    <tr>\n",
       "      <th>0</th>\n",
       "      <td>1995</td>\n",
       "      <td>Jan</td>\n",
       "      <td>4.370</td>\n",
       "      <td>51.595</td>\n",
       "      <td>2.112</td>\n",
       "      <td>0.9803</td>\n",
       "      <td>1</td>\n",
       "      <td>1</td>\n",
       "      <td>1</td>\n",
       "    </tr>\n",
       "    <tr>\n",
       "      <th>1</th>\n",
       "      <td>1995</td>\n",
       "      <td>Feb</td>\n",
       "      <td>3.695</td>\n",
       "      <td>56.086</td>\n",
       "      <td>1.932</td>\n",
       "      <td>0.8924</td>\n",
       "      <td>2</td>\n",
       "      <td>4</td>\n",
       "      <td>8</td>\n",
       "    </tr>\n",
       "    <tr>\n",
       "      <th>2</th>\n",
       "      <td>1995</td>\n",
       "      <td>Mar</td>\n",
       "      <td>4.538</td>\n",
       "      <td>68.453</td>\n",
       "      <td>2.162</td>\n",
       "      <td>0.8924</td>\n",
       "      <td>3</td>\n",
       "      <td>9</td>\n",
       "      <td>27</td>\n",
       "    </tr>\n",
       "    <tr>\n",
       "      <th>3</th>\n",
       "      <td>1995</td>\n",
       "      <td>Apr</td>\n",
       "      <td>4.280</td>\n",
       "      <td>65.722</td>\n",
       "      <td>2.130</td>\n",
       "      <td>0.8967</td>\n",
       "      <td>4</td>\n",
       "      <td>16</td>\n",
       "      <td>64</td>\n",
       "    </tr>\n",
       "    <tr>\n",
       "      <th>4</th>\n",
       "      <td>1995</td>\n",
       "      <td>May</td>\n",
       "      <td>4.470</td>\n",
       "      <td>73.730</td>\n",
       "      <td>2.227</td>\n",
       "      <td>0.8967</td>\n",
       "      <td>5</td>\n",
       "      <td>25</td>\n",
       "      <td>125</td>\n",
       "    </tr>\n",
       "    <tr>\n",
       "      <th>...</th>\n",
       "      <td>...</td>\n",
       "      <td>...</td>\n",
       "      <td>...</td>\n",
       "      <td>...</td>\n",
       "      <td>...</td>\n",
       "      <td>...</td>\n",
       "      <td>...</td>\n",
       "      <td>...</td>\n",
       "      <td>...</td>\n",
       "    </tr>\n",
       "    <tr>\n",
       "      <th>195</th>\n",
       "      <td>2011</td>\n",
       "      <td>Apr</td>\n",
       "      <td>2.296</td>\n",
       "      <td>81.173</td>\n",
       "      <td>3.519</td>\n",
       "      <td>2.3582</td>\n",
       "      <td>196</td>\n",
       "      <td>38416</td>\n",
       "      <td>7529536</td>\n",
       "    </tr>\n",
       "    <tr>\n",
       "      <th>196</th>\n",
       "      <td>2011</td>\n",
       "      <td>May</td>\n",
       "      <td>2.771</td>\n",
       "      <td>85.391</td>\n",
       "      <td>3.675</td>\n",
       "      <td>2.2414</td>\n",
       "      <td>197</td>\n",
       "      <td>38809</td>\n",
       "      <td>7645373</td>\n",
       "    </tr>\n",
       "    <tr>\n",
       "      <th>197</th>\n",
       "      <td>2011</td>\n",
       "      <td>Jun</td>\n",
       "      <td>3.558</td>\n",
       "      <td>93.010</td>\n",
       "      <td>3.511</td>\n",
       "      <td>2.3164</td>\n",
       "      <td>198</td>\n",
       "      <td>39204</td>\n",
       "      <td>7762392</td>\n",
       "    </tr>\n",
       "    <tr>\n",
       "      <th>198</th>\n",
       "      <td>2011</td>\n",
       "      <td>Jul</td>\n",
       "      <td>2.790</td>\n",
       "      <td>89.326</td>\n",
       "      <td>3.535</td>\n",
       "      <td>2.4143</td>\n",
       "      <td>199</td>\n",
       "      <td>39601</td>\n",
       "      <td>7880599</td>\n",
       "    </tr>\n",
       "    <tr>\n",
       "      <th>199</th>\n",
       "      <td>2011</td>\n",
       "      <td>Aug</td>\n",
       "      <td>3.429</td>\n",
       "      <td>89.949</td>\n",
       "      <td>3.502</td>\n",
       "      <td>2.2816</td>\n",
       "      <td>200</td>\n",
       "      <td>40000</td>\n",
       "      <td>8000000</td>\n",
       "    </tr>\n",
       "  </tbody>\n",
       "</table>\n",
       "<p>200 rows × 9 columns</p>\n",
       "</div>"
      ],
      "text/plain": [
       "     Year Month  Cotagecheese.Prod  Icecream.Prod  Milk.Prod  N.CA.Fat.Price  \\\n",
       "0    1995   Jan              4.370         51.595      2.112          0.9803   \n",
       "1    1995   Feb              3.695         56.086      1.932          0.8924   \n",
       "2    1995   Mar              4.538         68.453      2.162          0.8924   \n",
       "3    1995   Apr              4.280         65.722      2.130          0.8967   \n",
       "4    1995   May              4.470         73.730      2.227          0.8967   \n",
       "..    ...   ...                ...            ...        ...             ...   \n",
       "195  2011   Apr              2.296         81.173      3.519          2.3582   \n",
       "196  2011   May              2.771         85.391      3.675          2.2414   \n",
       "197  2011   Jun              3.558         93.010      3.511          2.3164   \n",
       "198  2011   Jul              2.790         89.326      3.535          2.4143   \n",
       "199  2011   Aug              3.429         89.949      3.502          2.2816   \n",
       "\n",
       "     Month.Count  monthNumSqred  monthNumCubed  \n",
       "0              1              1              1  \n",
       "1              2              4              8  \n",
       "2              3              9             27  \n",
       "3              4             16             64  \n",
       "4              5             25            125  \n",
       "..           ...            ...            ...  \n",
       "195          196          38416        7529536  \n",
       "196          197          38809        7645373  \n",
       "197          198          39204        7762392  \n",
       "198          199          39601        7880599  \n",
       "199          200          40000        8000000  \n",
       "\n",
       "[200 rows x 9 columns]"
      ]
     },
     "execution_count": 44,
     "metadata": {},
     "output_type": "execute_result"
    }
   ],
   "source": [
    "# Python Project 4\n",
    "### Question : How has Dairy consumption changed since 1995?\n",
    "\n",
    "import numpy as np\n",
    "import pandas as pd\n",
    "import seaborn as sns\n",
    "import matplotlib.pyplot as plot\n",
    "\n",
    "%matplotlib inline\n",
    "\n",
    "df = pd.read_csv('https://raw.githubusercontent.com/ricardoscr/UW-Data-Science-Certificate/master/02-Methods/CADairyProduction.csv')\n",
    "\n",
    "df.shape\n",
    "df.describe()\n",
    "df.head(200)\n",
    "\n"
   ]
  },
  {
   "cell_type": "code",
   "execution_count": 45,
   "id": "613fc312",
   "metadata": {},
   "outputs": [
    {
     "data": {
      "text/plain": [
       "(228, 9)"
      ]
     },
     "execution_count": 45,
     "metadata": {},
     "output_type": "execute_result"
    }
   ],
   "source": [
    "rows_without_missing_data = df.dropna()\n",
    "data_without_missing_columns = df.dropna(axis=1)\n",
    "data_without_missing_columns.shape\n",
    "rows_without_missing_data.shape\n"
   ]
  },
  {
   "cell_type": "code",
   "execution_count": 46,
   "id": "f188c5c3",
   "metadata": {},
   "outputs": [
    {
     "data": {
      "text/plain": [
       "3.312    3\n",
       "3.078    2\n",
       "2.314    2\n",
       "3.428    2\n",
       "3.417    2\n",
       "        ..\n",
       "3.431    1\n",
       "2.809    1\n",
       "2.182    1\n",
       "2.303    1\n",
       "2.710    1\n",
       "Name: Milk.Prod, Length: 216, dtype: int64"
      ]
     },
     "execution_count": 46,
     "metadata": {},
     "output_type": "execute_result"
    }
   ],
   "source": [
    "#Exploring Dataset\n",
    "df[\"Milk.Prod\"].value_counts()"
   ]
  },
  {
   "cell_type": "code",
   "execution_count": 47,
   "id": "06929314",
   "metadata": {},
   "outputs": [
    {
     "data": {
      "text/plain": [
       "Year  Month  Cotagecheese.Prod  Icecream.Prod  Milk.Prod  N.CA.Fat.Price  Month.Count  monthNumSqred  monthNumCubed\n",
       "1995  Jun    4.238              77.994         2.124      0.9160          6            36             216              1\n",
       "2005  Jun    3.036              88.184         3.182      1.5437          126          15876          2000376          1\n",
       "2012  Jun    2.816              88.012         3.523      1.4395          210          44100          9261000          1\n",
       "2011  Jun    3.558              93.010         3.511      2.3164          198          39204          7762392          1\n",
       "2010  Jun    2.903              92.306         3.394      1.7633          186          34596          6434856          1\n",
       "2009  Jun    2.733              85.427         3.283      1.3198          174          30276          5268024          1\n",
       "2008  Jun    2.641              84.551         3.417      1.5894          162          26244          4251528          1\n",
       "2007  Jun    2.468              81.322         3.341      1.5815          150          22500          3375000          1\n",
       "2006  Jun    2.565              84.793         3.206      1.3000          138          19044          2628072          1\n",
       "2004  Jun    3.104              90.472         3.026      2.4605          114          12996          1481544          1\n",
       "1996  Jun    3.756              86.814         2.142      1.0730          18           324            5832             1\n",
       "2003  Jun    2.823              89.052         2.972      1.1897          102          10404          1061208          1\n",
       "2002  Jun    2.673              86.244         2.979      1.1654          90           8100           729000           1\n",
       "2001  Jun    2.865              85.562         2.783      2.1050          78           6084           474552           1\n",
       "2000  Jun    2.644              85.091         2.673      1.2647          66           4356           287496           1\n",
       "1999  Jun    2.813              86.014         2.503      1.1261          54           2916           157464           1\n",
       "1998  Jun    2.853              86.093         2.317      1.0849          42           1764           74088            1\n",
       "1997  Jun    3.670              85.133         2.314      1.0247          30           900            27000            1\n",
       "2013  Jun    2.694              92.091         3.489      1.8314          222          49284          10941048         1\n",
       "dtype: int64"
      ]
     },
     "execution_count": 47,
     "metadata": {},
     "output_type": "execute_result"
    }
   ],
   "source": [
    "df.loc[df[\"Month\"] == \"Jun\"].value_counts()"
   ]
  },
  {
   "cell_type": "code",
   "execution_count": 48,
   "id": "72733527",
   "metadata": {},
   "outputs": [
    {
     "data": {
      "text/plain": [
       "<AxesSubplot:xlabel='Month', ylabel='Milk.Prod'>"
      ]
     },
     "execution_count": 48,
     "metadata": {},
     "output_type": "execute_result"
    },
    {
     "data": {
      "image/png": "[encoded data removed]",
      "text/plain": [
       "<Figure size 432x288 with 1 Axes>"
      ]
     },
     "metadata": {
      "needs_background": "light"
     },
     "output_type": "display_data"
    }
   ],
   "source": [
    "df.plot(x ='Month', y='Milk.Prod', kind = 'scatter')"
   ]
  },
  {
   "cell_type": "code",
   "execution_count": 52,
   "id": "36fc0c4e",
   "metadata": {},
   "outputs": [
    {
     "data": {
      "text/plain": [
       "<AxesSubplot:xlabel='Year', ylabel='Milk.Prod'>"
      ]
     },
     "execution_count": 52,
     "metadata": {},
     "output_type": "execute_result"
    },
    {
     "data": {
      "image/png": "[encoded data removed]",
      "text/plain": [
       "<Figure size 432x288 with 1 Axes>"
      ]
     },
     "metadata": {
      "needs_background": "light"
     },
     "output_type": "display_data"
    }
   ],
   "source": [
    "df.plot(x ='Year', y='Milk.Prod', kind = 'scatter')"
   ]
  },
  {
   "cell_type": "code",
   "execution_count": 55,
   "id": "8eb5bbaf",
   "metadata": {},
   "outputs": [
    {
     "data": {
      "text/plain": [
       "<AxesSubplot:xlabel='Year'>"
      ]
     },
     "execution_count": 55,
     "metadata": {},
     "output_type": "execute_result"
    },
    {
     "data": {
      "image/png": "[encoded data removed]",
      "text/plain": [
       "<Figure size 432x288 with 1 Axes>"
      ]
     },
     "metadata": {
      "needs_background": "light"
     },
     "output_type": "display_data"
    }
   ],
   "source": [
    "df.plot(x ='Year', y='Month.Count', kind = 'bar')"
   ]
  },
  {
   "cell_type": "code",
   "execution_count": null,
   "id": "14681898",
   "metadata": {},
   "outputs": [],
   "source": []
  },
  {
   "cell_type": "code",
   "execution_count": null,
   "id": "38eb13ed",
   "metadata": {},
   "outputs": [],
   "source": []
  },
  {
   "cell_type": "code",
   "execution_count": null,
   "id": "5a6e8211",
   "metadata": {},
   "outputs": [],
   "source": []
  },
  {
   "cell_type": "code",
   "execution_count": null,
   "id": "1333bad5",
   "metadata": {},
   "outputs": [],
   "source": []
  }
 ],
 "metadata": {
  "kernelspec": {
   "display_name": "Python 3",
   "language": "python",
   "name": "python3"
  }
 },
 "nbformat": 4,
 "nbformat_minor": 5
}
